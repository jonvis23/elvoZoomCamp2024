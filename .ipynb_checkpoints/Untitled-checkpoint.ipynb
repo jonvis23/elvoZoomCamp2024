{
 "cells": [
  {
   "cell_type": "code",
   "execution_count": 1,
   "id": "6058a1c8-e278-42f8-976a-0e5045dc24d2",
   "metadata": {},
   "outputs": [
    {
     "name": "stdout",
     "output_type": "stream",
     "text": [
      "Hello codespaces\n"
     ]
    }
   ],
   "source": [
    "print('Hello codespaces')"
   ]
  },
  {
   "cell_type": "code",
   "execution_count": null,
   "id": "3dc5bb39-3814-4900-8ffc-238e3a2a2b92",
   "metadata": {},
   "outputs": [],
   "source": []
  }
 ],
 "metadata": {
  "kernelspec": {
   "display_name": "Python 3 (ipykernel)",
   "language": "python",
   "name": "python3"
  },
  "language_info": {
   "codemirror_mode": {
    "name": "ipython",
    "version": 3
   },
   "file_extension": ".py",
   "mimetype": "text/x-python",
   "name": "python",
   "nbconvert_exporter": "python",
   "pygments_lexer": "ipython3",
   "version": "3.10.13"
  }
 },
 "nbformat": 4,
 "nbformat_minor": 5
}
